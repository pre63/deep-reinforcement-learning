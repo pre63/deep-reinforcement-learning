{
 "cells": [
  {
   "cell_type": "code",
   "execution_count": null,
   "metadata": {},
   "outputs": [],
   "source": [
    "import pandas as pd\n",
    "from IPython.display import display\n",
    "\n",
    "# Adjust Pandas display options\n",
    "pd.set_option('display.max_rows', None)  # Show all rows\n",
    "pd.set_option('display.max_columns', None)  # Show all columns\n",
    "pd.set_option('display.width', None)  # Auto-adjust width\n",
    "pd.set_option('display.colheader_justify', 'center')  # Align headers\n",
    "\n",
    "csv_path = \"Experiments.csv\"\n",
    "experiments_df = pd.read_csv(csv_path)\n",
    "\n",
    "# Move 'eval/success_rate' column to the end\n",
    "columns = [col for col in experiments_df.columns if col != \"eval/success_rate\"] + [\"eval/success_rate\"]\n",
    "experiments_df = experiments_df[columns]\n",
    "\n",
    "sorted_df = experiments_df.sort_values(by=\"eval/success_rate\", ascending=False)\n",
    "display(sorted_df)\n"
   ]
  },
  {
   "cell_type": "code",
   "execution_count": null,
   "metadata": {},
   "outputs": [],
   "source": [
    "import pandas as pd\n",
    "from IPython.display import display\n",
    "\n",
    "# Adjust Pandas display options\n",
    "pd.set_option('display.max_rows', None)  # Show all rows\n",
    "pd.set_option('display.max_columns', None)  # Show all columns\n",
    "pd.set_option('display.width', None)  # Auto-adjust width\n",
    "pd.set_option('display.colheader_justify', 'center')  # Align headers\n",
    "\n",
    "csv_path = \"Trials.csv\"\n",
    "experiments_df = pd.read_csv(csv_path)\n",
    "\n",
    "display(experiments_df)"
   ]
  }
 ],
 "metadata": {
  "kernelspec": {
   "display_name": ".venv",
   "language": "python",
   "name": "python3"
  },
  "language_info": {
   "codemirror_mode": {
    "name": "ipython",
    "version": 3
   },
   "file_extension": ".py",
   "mimetype": "text/x-python",
   "name": "python",
   "nbconvert_exporter": "python",
   "pygments_lexer": "ipython3",
   "version": "3.12.5"
  }
 },
 "nbformat": 4,
 "nbformat_minor": 2
}
