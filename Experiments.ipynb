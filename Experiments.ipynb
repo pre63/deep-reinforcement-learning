{
 "cells": [
  {
   "cell_type": "code",
   "execution_count": 1,
   "metadata": {},
   "outputs": [
    {
     "data": {
      "text/html": [
       "<div>\n",
       "<style scoped>\n",
       "    .dataframe tbody tr th:only-of-type {\n",
       "        vertical-align: middle;\n",
       "    }\n",
       "\n",
       "    .dataframe tbody tr th {\n",
       "        vertical-align: top;\n",
       "    }\n",
       "\n",
       "    .dataframe thead th {\n",
       "        text-align: right;\n",
       "    }\n",
       "</style>\n",
       "<table border=\"1\" class=\"dataframe\">\n",
       "  <thead>\n",
       "    <tr style=\"text-align: center;\">\n",
       "      <th></th>\n",
       "      <th>Model Name</th>\n",
       "      <th>Params</th>\n",
       "      <th>Timesteps</th>\n",
       "      <th>Average Step Time</th>\n",
       "      <th>Average Rewards (Step)</th>\n",
       "      <th>Reward Variance (Step)</th>\n",
       "      <th>Average Rewards (Episode)</th>\n",
       "      <th>Average Observations Per Episode</th>\n",
       "      <th>Eval Success Rate</th>\n",
       "      <th>Eval Average Rewards</th>\n",
       "      <th>Episode Count</th>\n",
       "      <th>Actor Loss</th>\n",
       "      <th>Critic Loss</th>\n",
       "      <th>KL Divergence</th>\n",
       "      <th>Environment</th>\n",
       "      <th>Result Folder</th>\n",
       "    </tr>\n",
       "  </thead>\n",
       "  <tbody>\n",
       "    <tr>\n",
       "      <th>0</th>\n",
       "      <td>TRPO</td>\n",
       "      <td>{'device': None, 'gamma': 0.99, 'lambd': 0.95,...</td>\n",
       "      <td>1280000</td>\n",
       "      <td>0.001454</td>\n",
       "      <td>-2.616143</td>\n",
       "      <td>62.796361</td>\n",
       "      <td>-621.734784</td>\n",
       "      <td>237.653175</td>\n",
       "      <td>0.0</td>\n",
       "      <td>-200.956272</td>\n",
       "      <td>5386</td>\n",
       "      <td>1.204333</td>\n",
       "      <td>2.975471</td>\n",
       "      <td>0.004691</td>\n",
       "      <td>LunarLander-v3</td>\n",
       "      <td>results/TRPO_20241230_165931</td>\n",
       "    </tr>\n",
       "  </tbody>\n",
       "</table>\n",
       "</div>"
      ],
      "text/plain": [
       "  Model Name                       Params                        Timesteps  \\\n",
       "0    TRPO     {'device': None, 'gamma': 0.99, 'lambd': 0.95,...   1280000    \n",
       "\n",
       "   Average Step Time  Average Rewards (Step)  Reward Variance (Step)  \\\n",
       "0      0.001454             -2.616143                62.796361         \n",
       "\n",
       "   Average Rewards (Episode)  Average Observations Per Episode  \\\n",
       "0        -621.734784                     237.653175              \n",
       "\n",
       "   Eval Success Rate  Eval Average Rewards  Episode Count  Actor Loss  \\\n",
       "0         0.0             -200.956272           5386        1.204333    \n",
       "\n",
       "   Critic Loss  KL Divergence   Environment           Result Folder          \n",
       "0   2.975471      0.004691     LunarLander-v3  results/TRPO_20241230_165931  "
      ]
     },
     "metadata": {},
     "output_type": "display_data"
    }
   ],
   "source": [
    "import pandas as pd\n",
    "from IPython.display import display\n",
    "\n",
    "# Adjust Pandas display options\n",
    "pd.set_option('display.max_rows', None)  # Show all rows\n",
    "pd.set_option('display.max_columns', None)  # Show all columns\n",
    "pd.set_option('display.width', None)  # Auto-adjust width\n",
    "pd.set_option('display.colheader_justify', 'center')  # Align headers\n",
    "\n",
    "csv_path = \"Experiments.csv\"\n",
    "experiments_df = pd.read_csv(csv_path)\n",
    "\n",
    "# Move 'Result Folder' column to the end\n",
    "columns = [col for col in experiments_df.columns if col != \"Result Folder\"] + [\"Result Folder\"]\n",
    "experiments_df = experiments_df[columns]\n",
    "\n",
    "sorted_df = experiments_df.sort_values(by=\"Eval Success Rate\", ascending=False)\n",
    "display(sorted_df)\n"
   ]
  }
 ],
 "metadata": {
  "kernelspec": {
   "display_name": ".venv",
   "language": "python",
   "name": "python3"
  },
  "language_info": {
   "codemirror_mode": {
    "name": "ipython",
    "version": 3
   },
   "file_extension": ".py",
   "mimetype": "text/x-python",
   "name": "python",
   "nbconvert_exporter": "python",
   "pygments_lexer": "ipython3",
   "version": "3.12.8"
  }
 },
 "nbformat": 4,
 "nbformat_minor": 2
}
