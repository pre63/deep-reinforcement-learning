{
 "cells": [
  {
   "cell_type": "code",
   "execution_count": null,
   "metadata": {},
   "outputs": [],
   "source": [
    "import pandas as pd\n",
    "\n",
    "# Load the Experiments.csv file\n",
    "csv_path = \"Experiments.csv\"\n",
    "try:\n",
    "    experiments_df = pd.read_csv(csv_path)\n",
    "except FileNotFoundError:\n",
    "    print(f\"File {csv_path} not found.\")\n",
    "else:\n",
    "    # Sort by Success Rate (descending)\n",
    "    sorted_df = experiments_df.sort_values(by=\"Success Rate\", ascending=False)\n",
    "\n",
    "    # Display the sorted table\n",
    "    from IPython.display import display\n",
    "\n",
    "    print(\"Experiments sorted by Success Rate:\")\n",
    "    display(sorted_df)\n",
    "\n",
    "    # Optionally save the sorted table to a new CSV file\n",
    "    sorted_csv_path = \"results/Experiments_sorted_by_success.csv\"\n",
    "    sorted_df.to_csv(sorted_csv_path, index=False)\n",
    "    print(f\"Sorted table saved to: {sorted_csv_path}\")\n"
   ]
  }
 ],
 "metadata": {
  "kernelspec": {
   "display_name": ".venv",
   "language": "python",
   "name": "python3"
  },
  "language_info": {
   "codemirror_mode": {
    "name": "ipython",
    "version": 3
   },
   "file_extension": ".py",
   "mimetype": "text/x-python",
   "name": "python",
   "nbconvert_exporter": "python",
   "pygments_lexer": "ipython3",
   "version": "3.12.5"
  }
 },
 "nbformat": 4,
 "nbformat_minor": 2
}
